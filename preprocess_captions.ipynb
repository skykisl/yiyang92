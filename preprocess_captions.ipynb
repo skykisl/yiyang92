{
 "cells": [
  {
   "cell_type": "code",
   "execution_count": 55,
   "metadata": {
    "collapsed": true
   },
   "outputs": [],
   "source": [
    "from glob import glob\n",
    "import pickle\n",
    "import os\n",
    "import matplotlib.pyplot as plt\n",
    "import random\n",
    "import numpy as np\n",
    "%matplotlib inline"
   ]
  },
  {
   "cell_type": "code",
   "execution_count": 56,
   "metadata": {
    "collapsed": true
   },
   "outputs": [],
   "source": [
    "# file directories\n",
    "ST_CAP_DIR = \"/home/luoyy16/datasets-large/FlickrStyle_v0.9/\"\n",
    "F30_CAP_DIR = \"/home/luoyy16/datasets-large/Flickr30kEntities/Sentences/\"\n",
    "F30_IM_DIR = \"/home/luoyy16/datasets-large/flickr30k-images\""
   ]
  },
  {
   "cell_type": "code",
   "execution_count": 57,
   "metadata": {
    "collapsed": true
   },
   "outputs": [],
   "source": [
    "def style_caps(pfn, capfn):\n",
    "    with open(pfn, 'rb') as rf:\n",
    "        cap_fn = pickle.load(rf)\n",
    "    with open(capfn, 'rb') as rf:\n",
    "        cap = []\n",
    "        ctr = 0\n",
    "        for line in rf:\n",
    "            try:\n",
    "                line = line.decode('utf-8')\n",
    "                ctr+=1\n",
    "            except: \n",
    "                line = line.decode('utf-8', 'replace')\n",
    "                print(\"line {} contains weird characters\".format(ctr+1))\n",
    "                print(line)\n",
    "            if len(line) < 4:\n",
    "                # for some weird line\n",
    "                continue\n",
    "            cap.append(line.lower().rstrip())\n",
    "    return cap_fn, cap"
   ]
  },
  {
   "cell_type": "code",
   "execution_count": 58,
   "metadata": {
    "collapsed": true
   },
   "outputs": [],
   "source": [
    "hum_cap_fn, hum_cap = style_caps(os.path.join(ST_CAP_DIR, 'humor/train.p'),\n",
    "                                 os.path.join(ST_CAP_DIR, 'humor/funny_train.txt'))"
   ]
  },
  {
   "cell_type": "code",
   "execution_count": 59,
   "metadata": {},
   "outputs": [
    {
     "name": "stdout",
     "output_type": "stream",
     "text": [
      "line 2531 contains weird characters\n",
      "a man drives an old-fashioned red race car on the track��speed to finish the line .\r\n",
      "\n"
     ]
    }
   ],
   "source": [
    "rom_cap_fn, rom_cap = style_caps(os.path.join(ST_CAP_DIR, 'romantic/train.p'),\n",
    "                                 os.path.join(ST_CAP_DIR, 'romantic/romantic_train.txt'))"
   ]
  },
  {
   "cell_type": "code",
   "execution_count": 60,
   "metadata": {},
   "outputs": [
    {
     "name": "stdout",
     "output_type": "stream",
     "text": [
      "7000 7000\n"
     ]
    }
   ],
   "source": [
    "print(len(rom_cap), len(rom_cap_fn))"
   ]
  },
  {
   "cell_type": "code",
   "execution_count": 61,
   "metadata": {},
   "outputs": [
    {
     "name": "stdout",
     "output_type": "stream",
     "text": [
      "7000 7000\n"
     ]
    }
   ],
   "source": [
    "print(len(hum_cap), len(hum_cap_fn))"
   ]
  },
  {
   "cell_type": "code",
   "execution_count": 62,
   "metadata": {},
   "outputs": [
    {
     "name": "stdout",
     "output_type": "stream",
     "text": [
      "File names lists are equal in order: True\n"
     ]
    }
   ],
   "source": [
    "print(\"File names lists are equal in order: {}\".format(hum_cap_fn == rom_cap_fn))"
   ]
  },
  {
   "cell_type": "code",
   "execution_count": 63,
   "metadata": {
    "collapsed": true
   },
   "outputs": [],
   "source": [
    "def get_act_caps(cap_path):\n",
    "    cap_files = list(glob(cap_path + '*.txt'))\n",
    "    cap_dict = {}\n",
    "    for file in cap_files:\n",
    "        caps = []\n",
    "        with open(file, 'r') as rf:\n",
    "            lines = rf.readlines()\n",
    "        for line in lines:\n",
    "            line = line.strip().lower().split(' ')\n",
    "            p_line = []\n",
    "            for wd in line:\n",
    "                wd_s = wd.split(']')\n",
    "                if '[' in wd:\n",
    "                    continue\n",
    "                if len(wd_s) > 1:\n",
    "                    wd_s = [wd_s[0]]\n",
    "                p_line.extend(wd_s)\n",
    "            caps.append(p_line)\n",
    "        im_name = file.split('/')[-1].split('.')[0] + '.jpg'\n",
    "        cap_dict[im_name] = caps\n",
    "    return cap_dict"
   ]
  },
  {
   "cell_type": "code",
   "execution_count": 64,
   "metadata": {
    "collapsed": true
   },
   "outputs": [],
   "source": [
    "cap_dict_30k = get_act_caps(F30_CAP_DIR)"
   ]
  },
  {
   "cell_type": "code",
   "execution_count": 65,
   "metadata": {
    "collapsed": true
   },
   "outputs": [],
   "source": [
    "imn30k = os.listdir(F30_IM_DIR)"
   ]
  },
  {
   "cell_type": "code",
   "execution_count": 66,
   "metadata": {
    "collapsed": true
   },
   "outputs": [],
   "source": [
    "# tags\n",
    "start_tag = '<BOS>'\n",
    "end_tag = '<EOS>'"
   ]
  },
  {
   "cell_type": "code",
   "execution_count": 67,
   "metadata": {
    "collapsed": true
   },
   "outputs": [],
   "source": [
    "cap_dict = {}\n",
    "imn30kset = set(imn30k)\n",
    "for i in range(len(rom_cap_fn)):\n",
    "    imn = rom_cap_fn[i]\n",
    "    imn = imn.split('_')[0] + '.jpg'\n",
    "    cap_dict[imn] = {'romantic': [[start_tag] + rom_cap[i].split(' ') + [end_tag]], \n",
    "                     'humorous': [[start_tag] + hum_cap[i].split(' ') + [end_tag]], 'actual': ''}"
   ]
  },
  {
   "cell_type": "code",
   "execution_count": 68,
   "metadata": {},
   "outputs": [
    {
     "name": "stdout",
     "output_type": "stream",
     "text": [
      "labelled images split: train: 5600 val: 700  test: 700\n"
     ]
    }
   ],
   "source": [
    "NUM_TRAIN = int(len(rom_cap_fn) * 0.8)\n",
    "NUM_TEST = int(len(rom_cap_fn) * 0.1)\n",
    "NUM_VAL = int(len(rom_cap_fn) * 0.1)\n",
    "print(\"labelled images split: train: {} val: {}  test: {}\".format(NUM_TRAIN, NUM_VAL, NUM_TEST))"
   ]
  },
  {
   "cell_type": "code",
   "execution_count": 69,
   "metadata": {
    "collapsed": true
   },
   "outputs": [],
   "source": [
    "def form_dict(orig_dict, keys):\n",
    "    dest_dict = {}\n",
    "    for key in keys:\n",
    "        dest_dict[key] = orig_dict[key]\n",
    "    return dest_dict"
   ]
  },
  {
   "cell_type": "code",
   "execution_count": 70,
   "metadata": {
    "collapsed": true
   },
   "outputs": [],
   "source": [
    "def split_labelled(cap_dict):\n",
    "    # split into val and test\n",
    "    keys = list(cap_dict.keys())\n",
    "    keys_perm = np.random.permutation(keys)\n",
    "    keys_tr = keys_perm[:NUM_TRAIN]\n",
    "    keys_vl = keys_perm[NUM_TRAIN: (NUM_TRAIN + NUM_VAL)]\n",
    "    keys_ts = keys_perm[(NUM_TRAIN + NUM_VAL):]\n",
    "    cap_tr = form_dict(cap_dict, keys_tr)\n",
    "    cap_vl = form_dict(cap_dict, keys_vl)\n",
    "    cap_ts = form_dict(cap_dict, keys_ts)\n",
    "    return cap_tr, cap_vl, cap_ts"
   ]
  },
  {
   "cell_type": "code",
   "execution_count": 71,
   "metadata": {
    "collapsed": true
   },
   "outputs": [],
   "source": [
    "cap_dict, cap_lval, cap_ltest = split_labelled(cap_dict)\n",
    "cap_dict_l = cap_dict.copy()"
   ]
  },
  {
   "cell_type": "code",
   "execution_count": 83,
   "metadata": {
    "collapsed": true
   },
   "outputs": [],
   "source": [
    "# add actual captions\n",
    "for imn in imn30k:\n",
    "    if imn == 'readme.txt':\n",
    "        continue\n",
    "    try:\n",
    "        cap_dict[imn].update({'actual': [[start_tag] + cap + [end_tag] for cap in cap_dict_30k[imn]]})\n",
    "    except:\n",
    "        cap_dict[imn] = {'actual': [[start_tag] + cap + [end_tag] for cap in cap_dict_30k[imn]]}\n",
    "    try:\n",
    "        cap_lval[imn].update({'actual': [[start_tag] + cap + [end_tag] for cap in cap_dict_30k[imn]]})\n",
    "    except:\n",
    "        pass\n",
    "    try:\n",
    "        cap_ltest[imn].update({'actual': [[start_tag] + cap + [end_tag] for cap in cap_dict_30k[imn]]})\n",
    "    except:\n",
    "        pass"
   ]
  },
  {
   "cell_type": "code",
   "execution_count": 84,
   "metadata": {},
   "outputs": [
    {
     "name": "stdout",
     "output_type": "stream",
     "text": [
      "{'humorous': [['<BOS>', 'a', 'shirtless', 'man', 'is', 'doing', 'a', 'skateboard', 'trick', 'to', 'impress', 'full', 'moon', '.', '<EOS>']], 'actual': [['<BOS>', 'the', 'skateboarder', 'enjoys', 'night', 'skating', 'at', 'the', 'skate', 'park', '.', '<EOS>'], ['<BOS>', 'a', 'shirtless', 'man', 'skateboarding', 'with', 'his', 'arms', 'in', 'the', 'air', '.', '<EOS>'], ['<BOS>', 'a', 'shirtless', 'man', 'is', 'doing', 'a', 'skateboard', 'trick', '.', '<EOS>'], ['<BOS>', 'a', 'shirtless', 'man', 'skateboards', 'on', 'a', 'ledge', '.', '<EOS>'], ['<BOS>', 'a', 'shirtless', 'man', 'rides', 'a', 'skateboard', '.', '<EOS>']], 'romantic': [['<BOS>', 'a', 'shirtless', 'man', 'skateboards', 'on', 'a', 'ledge', 'practicing', 'for', 'the', 'big', 'event', '.', '<EOS>']]}\n"
     ]
    },
    {
     "data": {
      "image/png": "[encoded data removed]",
      "text/plain": [
       "<matplotlib.figure.Figure at 0x7f1799eab940>"
      ]
     },
     "metadata": {},
     "output_type": "display_data"
    }
   ],
   "source": [
    "# choose random image\n",
    "im_keys = list(cap_lval.keys())\n",
    "ran_key = im_keys[random.choice(range(len(im_keys)))]\n",
    "caps = cap_lval[ran_key]\n",
    "img = plt.imread(os.path.join(F30_IM_DIR, ran_key))\n",
    "plt.imshow(img)\n",
    "print(caps)"
   ]
  },
  {
   "cell_type": "code",
   "execution_count": 85,
   "metadata": {
    "collapsed": true
   },
   "outputs": [],
   "source": [
    "# save to pickles\n",
    "if not os.path.exists('./pickles'):\n",
    "    os.mkdir('./pickles')"
   ]
  },
  {
   "cell_type": "code",
   "execution_count": 86,
   "metadata": {
    "collapsed": true
   },
   "outputs": [],
   "source": [
    "# labelled + unlabelled captions\n",
    "with open('./pickles/captions_tr.pkl', 'wb') as wf:\n",
    "    pickle.dump(file=wf, obj=cap_dict)"
   ]
  },
  {
   "cell_type": "code",
   "execution_count": 87,
   "metadata": {
    "collapsed": true
   },
   "outputs": [],
   "source": [
    "# only labelled\n",
    "with open('./pickles/captions_ltr.pkl', 'wb') as wf:\n",
    "    pickle.dump(file=wf, obj=cap_dict_l)"
   ]
  },
  {
   "cell_type": "code",
   "execution_count": 88,
   "metadata": {
    "collapsed": true
   },
   "outputs": [],
   "source": [
    "# labelled val captions\n",
    "with open('./pickles/captions_val.pkl', 'wb') as wf:\n",
    "    pickle.dump(file=wf, obj=cap_lval)"
   ]
  },
  {
   "cell_type": "code",
   "execution_count": 89,
   "metadata": {
    "collapsed": true
   },
   "outputs": [],
   "source": [
    "# labelled test captions\n",
    "with open('./pickles/captions_test.pkl', 'wb') as wf:\n",
    "    pickle.dump(file=wf, obj=cap_ltest)"
   ]
  },
  {
   "cell_type": "code",
   "execution_count": 90,
   "metadata": {},
   "outputs": [
    {
     "name": "stdout",
     "output_type": "stream",
     "text": [
      "Training set size: 31783\n",
      "Labelled Training set size: 5600\n",
      "Validation set size: 700\n",
      "Test set size: 700\n"
     ]
    }
   ],
   "source": [
    "# dataset overview\n",
    "print(\"Training set size: {}\\nLabelled Training set size: {}\\nValidation set size: {}\\nTest set size: {}\".format(\n",
    "    len(cap_dict.keys()), len(cap_dict_l.keys()),len(cap_lval.keys()), len(cap_ltest.keys())))"
   ]
  },
  {
   "cell_type": "code",
   "execution_count": 93,
   "metadata": {
    "collapsed": true
   },
   "outputs": [],
   "source": [
    "# TODO: create 3 evaluation files for futher usage\n",
    "# format: {'caption': 'A bicycle replica with a clock as the front wheel.',\n",
    "#  'id': 37,\n",
    "#  'image_id': 203564}\n",
    "# use json dump for list of dictionaries"
   ]
  },
  {
   "cell_type": "code",
   "execution_count": 138,
   "metadata": {
    "collapsed": true
   },
   "outputs": [],
   "source": [
    "def prepare_eval(caption_dict, label):\n",
    "    # annotations\n",
    "    eval_d_list = []\n",
    "    img_info = []\n",
    "    for imid in caption_dict.keys():\n",
    "        ev_dict = {'image_id': int(imid.split('.')[0]),\n",
    "                   'caption': ' '.join(caption_dict[imid][label][0][1:-1]),\n",
    "                   'id': int(imid.split('.')[0])}\n",
    "        im_dict = {'id' : int(imid.split('.')[0]),\n",
    "                   'file_name': imid}\n",
    "        eval_d_list.append(ev_dict)\n",
    "        img_info.append(im_dict)\n",
    "    return {'annotations': eval_d_list, 'images': img_info}"
   ]
  },
  {
   "cell_type": "code",
   "execution_count": 139,
   "metadata": {
    "collapsed": true
   },
   "outputs": [],
   "source": [
    "import json"
   ]
  },
  {
   "cell_type": "code",
   "execution_count": 140,
   "metadata": {
    "collapsed": true
   },
   "outputs": [],
   "source": [
    "if not os.path.exists('./annotations'):\n",
    "    os.makedirs('./annotations')"
   ]
  },
  {
   "cell_type": "code",
   "execution_count": 141,
   "metadata": {
    "collapsed": true
   },
   "outputs": [],
   "source": [
    "def dump_to_json(obj, f_name):\n",
    "    with open('./annotations/' + f_name, 'w') as wf:\n",
    "        json.dump(obj, wf)"
   ]
  },
  {
   "cell_type": "code",
   "execution_count": 142,
   "metadata": {
    "collapsed": true
   },
   "outputs": [],
   "source": [
    "# val\n",
    "dump_to_json(prepare_eval(cap_lval, 'actual'), 'val_act.json')\n",
    "dump_to_json(prepare_eval(cap_lval, 'romantic'), 'val_rom.json')\n",
    "dump_to_json(prepare_eval(cap_lval, 'humorous'), 'val_hum.json')"
   ]
  },
  {
   "cell_type": "code",
   "execution_count": 143,
   "metadata": {
    "collapsed": true
   },
   "outputs": [],
   "source": [
    "# test\n",
    "dump_to_json(prepare_eval(cap_ltest, 'actual'), 'test_act.json')\n",
    "dump_to_json(prepare_eval(cap_ltest, 'romantic'), 'test_rom.json')\n",
    "dump_to_json(prepare_eval(cap_ltest, 'humorous'), 'test_hum.json')"
   ]
  },
  {
   "cell_type": "code",
   "execution_count": 144,
   "metadata": {},
   "outputs": [
    {
     "name": "stdout",
     "output_type": "stream",
     "text": [
      "test_act.json  test_rom.json  val_hum.json\r\n",
      "test_hum.json  val_act.json   val_rom.json\r\n"
     ]
    }
   ],
   "source": [
    "! ls ./annotations/"
   ]
  },
  {
   "cell_type": "code",
   "execution_count": 145,
   "metadata": {
    "collapsed": true
   },
   "outputs": [],
   "source": [
    "# test json\n",
    "with open('./annotations/val_act.json') as rf:\n",
    "    a = json.load(rf)"
   ]
  },
  {
   "cell_type": "code",
   "execution_count": null,
   "metadata": {
    "collapsed": true
   },
   "outputs": [],
   "source": []
  }
 ],
 "metadata": {
  "kernelspec": {
   "display_name": "Python [conda env:anaconda3]",
   "language": "python",
   "name": "conda-env-anaconda3-py"
  },
  "language_info": {
   "codemirror_mode": {
    "name": "ipython",
    "version": 3
   },
   "file_extension": ".py",
   "mimetype": "text/x-python",
   "name": "python",
   "nbconvert_exporter": "python",
   "pygments_lexer": "ipython3",
   "version": "3.5.5"
  }
 },
 "nbformat": 4,
 "nbformat_minor": 2
}
